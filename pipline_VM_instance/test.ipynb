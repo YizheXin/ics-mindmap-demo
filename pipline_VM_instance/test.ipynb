{
 "cells": [
  {
   "cell_type": "code",
   "execution_count": 1,
   "id": "312cfe69-7fbe-4483-a09d-a48d98da726a",
   "metadata": {},
   "outputs": [
    {
     "name": "stdout",
     "output_type": "stream",
     "text": [
      "['/home/jupyter/ics_mind-maps-main', '/opt/conda/lib/python310.zip', '/opt/conda/lib/python3.10', '/opt/conda/lib/python3.10/lib-dynload', '', '/opt/conda/lib/python3.10/site-packages', '/home/jupyter/ics_mind-maps-main', './home/jupyter/ics_mind-maps-main/models']\n"
     ]
    }
   ],
   "source": [
    "import sys\n",
    "sys.path.append('/home/jupyter/ics_mind-maps-main')\n",
    "sys.path.append('./home/jupyter/ics_mind-maps-main/models')\n",
    "print(sys.path)\n",
    "from pipeline_Vit_Edges import GraphFeatureExtractionPipeline\n",
    "from GingerIt import GingerIt\n",
    "import cv2\n",
    "import matplotlib.pyplot as plt\n",
    "from transformers import AutoImageProcessor, AutoModelForObjectDetection\n",
    "import numpy as np\n",
    "import transformers\n",
    "import os,io\n",
    "from PIL import Image, ImageDraw"
   ]
  },
  {
   "cell_type": "code",
   "execution_count": 2,
   "id": "3bdf3897-f4c4-4ffc-ab34-f2942a05d625",
   "metadata": {},
   "outputs": [],
   "source": [
    "# pipeline = GraphFeatureExtractionPipeline(\n",
    "#     drawing_checkpoint=\"/home/jupyter/ics_mind-maps-main/models/drawing\",\n",
    "#     edge_tip_checkpoint=\"/home/jupyter/ics_mind-maps-main/models/edge_tip\",\n",
    "#     node_checkpoint=\"/home/jupyter/ics_mind-maps-main/models/node\"\n",
    "# )\n",
    "pipeline = GraphFeatureExtractionPipeline(\n",
    "    drawing_checkpoint= \"peter9356/models\",\n",
    "    edge_tip_checkpoint=\"peter9356/models\",\n",
    "    node_checkpoint=\"peter9356/models\"\n",
    ")"
   ]
  },
  {
   "cell_type": "code",
   "execution_count": 3,
   "id": "9ca83e03-7c23-48c5-bee2-6de6a1a881fc",
   "metadata": {},
   "outputs": [
    {
     "data": {
      "text/plain": [
       "['test_image']"
      ]
     },
     "execution_count": 3,
     "metadata": {},
     "output_type": "execute_result"
    }
   ],
   "source": [
    "images = [\n",
    " 'test_image.jpg']\n",
    "\n",
    "ocrs = [path.split('/')[-1].split('.jpg')[0] for path in images]\n",
    "ocrs"
   ]
  },
  {
   "cell_type": "code",
   "execution_count": 4,
   "id": "1d3b205a-c1c7-4879-ab19-fef99255f0b8",
   "metadata": {},
   "outputs": [],
   "source": [
    "json_file = f'{ocrs[-1]}'\n",
    "image_file = f'{images[-1]}'"
   ]
  },
  {
   "cell_type": "code",
   "execution_count": 5,
   "id": "f31dda85-e841-427e-a858-c5c38468c039",
   "metadata": {},
   "outputs": [],
   "source": [
    "\n",
    "# image_open= Image.open(os.path.join(image_file))\n"
   ]
  },
  {
   "cell_type": "code",
   "execution_count": 6,
   "id": "1f42e6c4-0eb5-4622-843a-eda3bbc4f4b6",
   "metadata": {},
   "outputs": [
    {
     "name": "stdout",
     "output_type": "stream",
     "text": [
      "Step 1: use the node model to predict the node.\n",
      "Step 2: Start to read the ocr file.\n",
      "Step 3: Start to use drawing model to predict.\n",
      "Step 4: Start to use edges model to predict.\n",
      "Step 5: Start to compute nodes and edges masks.\n"
     ]
    }
   ],
   "source": [
    "nodes_df, connections_df = pipeline.extract_feature(json_file,image_file)"
   ]
  },
  {
   "cell_type": "code",
   "execution_count": 7,
   "id": "cfda9f52-92ce-4f9f-b7c6-a2e43dc51699",
   "metadata": {},
   "outputs": [],
   "source": [
    "graph_features = pipeline.generate_json_output(nodes_df, connections_df, ocrs,'123')"
   ]
  },
  {
   "cell_type": "code",
   "execution_count": 8,
   "id": "f464c922-655c-415a-8ad4-6fcb579b7fda",
   "metadata": {},
   "outputs": [
    {
     "data": {
      "text/plain": [
       "{'image_id': 'a9cee113-1520-4246-9311-f30b35f70fde',\n",
       " 'user_id': '123',\n",
       " 'image_name': ['test_image'],\n",
       " 'graph': {'nodes': [{'node_id': 7,\n",
       "    'attributes': {'position': {'x': 727.0, 'y': 252.5},\n",
       "     'color': 'CYAN',\n",
       "     'font_size': 12,\n",
       "     'text': 'fall of 10y',\n",
       "     'node_level': 2}},\n",
       "   {'node_id': 6,\n",
       "    'attributes': {'position': {'x': 194.5, 'y': 394.5},\n",
       "     'color': 'CYAN',\n",
       "     'font_size': 9,\n",
       "     'text': 'Themes',\n",
       "     'node_level': 1}},\n",
       "   {'node_id': 4,\n",
       "    'attributes': {'position': {'x': 577.5, 'y': 513.5},\n",
       "     'color': 'CYAN',\n",
       "     'font_size': 9,\n",
       "     'text': 'superstitions',\n",
       "     'node_level': 3}},\n",
       "   {'node_id': 1,\n",
       "    'attributes': {'position': {'x': 763.0, 'y': 618.0},\n",
       "     'color': 'CYAN',\n",
       "     'font_size': 10,\n",
       "     'text': 'fate',\n",
       "     'node_level': 2}},\n",
       "   {'node_id': 0,\n",
       "    'attributes': {'position': {'x': 617.0, 'y': 737.0},\n",
       "     'color': 'CYAN',\n",
       "     'font_size': 10,\n",
       "     'text': 'Decepinon P',\n",
       "     'node_level': 2}},\n",
       "   {'node_id': 2,\n",
       "    'attributes': {'position': {'x': 126.5, 'y': 598.0},\n",
       "     'color': 'CYAN',\n",
       "     'font_size': 10,\n",
       "     'text': 'drawing_0\\ndrawing_2',\n",
       "     'node_level': 3}},\n",
       "   {'node_id': 3,\n",
       "    'attributes': {'position': {'x': 126.0, 'y': 528.5},\n",
       "     'color': 'CYAN',\n",
       "     'font_size': 9,\n",
       "     'text': 'drawing_1',\n",
       "     'node_level': 2}},\n",
       "   {'node_id': 5,\n",
       "    'attributes': {'position': {'x': 825.5, 'y': 477.5},\n",
       "     'color': 'CYAN',\n",
       "     'font_size': 10,\n",
       "     'text': 'drawing_3',\n",
       "     'node_level': 2}}],\n",
       "  'edges': [{'edge': {'node a': 0, 'node b': 1},\n",
       "    'destination_node': 1,\n",
       "    'thickness': 3.3675213675213675,\n",
       "    'length': 189.480229139328},\n",
       "   {'edge': {'node a': 2, 'node b': 3},\n",
       "    'destination_node': 2,\n",
       "    'thickness': 3.875,\n",
       "    'length': 46.526912450790405},\n",
       "   {'edge': {'node a': 5, 'node b': 1},\n",
       "    'destination_node': 'None',\n",
       "    'thickness': 2.875,\n",
       "    'length': 118.56854152679443},\n",
       "   {'edge': {'node a': 6, 'node b': 3},\n",
       "    'destination_node': 3,\n",
       "    'thickness': 4.0855263157894735,\n",
       "    'length': 169.982754945755},\n",
       "   {'edge': {'node a': 0, 'node b': 6},\n",
       "    'destination_node': 0,\n",
       "    'thickness': 4.797709923664122,\n",
       "    'length': 792.0701849460602},\n",
       "   {'edge': {'node a': 6, 'node b': 4},\n",
       "    'destination_node': 4,\n",
       "    'thickness': 3.5448430493273544,\n",
       "    'length': 385.54624342918396},\n",
       "   {'edge': {'node a': 7, 'node b': 5},\n",
       "    'destination_node': 5,\n",
       "    'thickness': 3.5174825174825175,\n",
       "    'length': 317.7644999027252},\n",
       "   {'edge': {'node a': 6, 'node b': 7},\n",
       "    'destination_node': 6,\n",
       "    'thickness': 6.953125,\n",
       "    'length': 363.87214636802673}]}}"
      ]
     },
     "execution_count": 8,
     "metadata": {},
     "output_type": "execute_result"
    }
   ],
   "source": [
    "graph_features"
   ]
  },
  {
   "cell_type": "code",
   "execution_count": null,
   "id": "884e17a8-ae9f-46ea-97f4-6ad5896fb130",
   "metadata": {},
   "outputs": [],
   "source": []
  }
 ],
 "metadata": {
  "environment": {
   "kernel": "python3",
   "name": "common-gpu.m110",
   "type": "gcloud",
   "uri": "gcr.io/deeplearning-platform-release/base-gpu:m110"
  },
  "kernelspec": {
   "display_name": "Python 3",
   "language": "python",
   "name": "python3"
  },
  "language_info": {
   "codemirror_mode": {
    "name": "ipython",
    "version": 3
   },
   "file_extension": ".py",
   "mimetype": "text/x-python",
   "name": "python",
   "nbconvert_exporter": "python",
   "pygments_lexer": "ipython3",
   "version": "3.10.12"
  }
 },
 "nbformat": 4,
 "nbformat_minor": 5
}
